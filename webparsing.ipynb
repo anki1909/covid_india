{
 "cells": [
  {
   "cell_type": "code",
   "execution_count": 1,
   "metadata": {},
   "outputs": [],
   "source": [
    "import pandas as pd\n",
    "import numpy as np\n",
    "from selenium import webdriver\n",
    "from selenium.webdriver.common.by import By\n",
    "from selenium.webdriver.support.select import Select\n",
    "from selenium.webdriver.support.ui import WebDriverWait\n",
    "from selenium.webdriver.support import expected_conditions as EC\n",
    "from bs4 import BeautifulSoup\n",
    "import seaborn as sns\n",
    "import pandas as pd\n",
    "pd.set_option('display.max_rows', 500)\n",
    "pd.set_option('display.max_columns', 500)\n",
    "pd.set_option('display.width', 1000)\n",
    "from datetime import date\n",
    "import os \n",
    "from datetime import datetime\n",
    "\n",
    "\n",
    "os.chdir(\"C:/Users/Ankit/Desktop/Webscrapper/data/\") "
   ]
  },
  {
   "cell_type": "code",
   "execution_count": 2,
   "metadata": {},
   "outputs": [],
   "source": [
    "total_ids = []\n",
    "def fun():\n",
    "    global total_ids\n",
    "    driver = webdriver.PhantomJS('C:/Users/Ankit/Desktop/Webscrapper/phantomjs-2.1.1-windows/phantomjs-2.1.1-windows/bin/phantomjs.exe')\n",
    "    driver.get(\"http://www.speaking24.com/\")\n",
    "    now = datetime.now()\n",
    "    d1 = str(now.strftime(\"%d%m%Y-%H_%M_%S\"))\n",
    "    # waiting for the page to load - TODO: change\n",
    "    wait = WebDriverWait(driver, 10)\n",
    "\n",
    "    try:\n",
    "        wait.until(EC.visibility_of_element_located((By.ID, \"content\")))\n",
    "    except Exception:\n",
    "        driver.save_screenshot('screenshot.png')\n",
    "\n",
    "    data = driver.page_source\n",
    "    driver.close()\n",
    "\n",
    "    soup = BeautifulSoup(data, \"html.parser\")\n",
    "    mydivs = soup.find(\"div\", {\"class\": \"userListBody\"})\n",
    "    main_table = mydivs.find(\"table\", {\"class\": \"raport_data2\"})\n",
    "    k = main_table.findAll(\"table\")\n",
    "    data = []\n",
    "    for enu, i in enumerate(k):\n",
    "        \n",
    "\n",
    "        # dd/mm/YY\n",
    "        \n",
    "        small = []\n",
    "        small.append(d1)\n",
    "        img = k[enu].findAll('img')\n",
    "        href = k[enu].findAll('a')[0]['href']\n",
    "        small.append(href)\n",
    "        small.append(k[enu].findAll('td')[1].contents[0])\n",
    "        small.append(k[enu].findAll('td')[4].contents[0])\n",
    "        for enu, i in enumerate(img):\n",
    "            small.append(i['alt'])\n",
    "\n",
    "        data.append(small)\n",
    "        \n",
    "    name = \"full_data\"+''+str(d1)+'.csv'\n",
    "    df = pd.DataFrame(data)\n",
    "    return df\n",
    "    df  = df.iloc[:,0:8].shape\n",
    "    df.columns = ['date','skype_name','name','age','status','gender','level','nation','where'] \n",
    "\n",
    "\n",
    "    print (len(np.setdiff1d(set(df.skype_name.values), set(total_ids))))\n",
    "    total_ids = list(set(total_ids+df.skype_name.values))\n",
    "\n",
    "        \n",
    "    df.to_csv(name,index=False)\n",
    "    print ('Done')"
   ]
  },
  {
   "cell_type": "code",
   "execution_count": 3,
   "metadata": {},
   "outputs": [
    {
     "name": "stderr",
     "output_type": "stream",
     "text": [
      "C:\\Users\\Ankit\\anaconda3\\lib\\site-packages\\selenium\\webdriver\\phantomjs\\webdriver.py:49: UserWarning: Selenium support for PhantomJS has been deprecated, please use headless versions of Chrome or Firefox instead\n",
      "  warnings.warn('Selenium support for PhantomJS has been deprecated, please use headless '\n"
     ]
    }
   ],
   "source": [
    "df = fun()"
   ]
  },
  {
   "cell_type": "code",
   "execution_count": null,
   "metadata": {},
   "outputs": [],
   "source": []
  },
  {
   "cell_type": "code",
   "execution_count": 4,
   "metadata": {},
   "outputs": [],
   "source": [
    "def update():\n",
    "    import time\n",
    "    while True:\n",
    "        fun()\n",
    "        time.sleep(120)"
   ]
  },
  {
   "cell_type": "code",
   "execution_count": null,
   "metadata": {},
   "outputs": [],
   "source": [
    "update()"
   ]
  },
  {
   "cell_type": "code",
   "execution_count": null,
   "metadata": {},
   "outputs": [],
   "source": []
  }
 ],
 "metadata": {
  "kernelspec": {
   "display_name": "Python 3",
   "language": "python",
   "name": "python3"
  },
  "language_info": {
   "codemirror_mode": {
    "name": "ipython",
    "version": 3
   },
   "file_extension": ".py",
   "mimetype": "text/x-python",
   "name": "python",
   "nbconvert_exporter": "python",
   "pygments_lexer": "ipython3",
   "version": "3.8.3"
  }
 },
 "nbformat": 4,
 "nbformat_minor": 4
}
