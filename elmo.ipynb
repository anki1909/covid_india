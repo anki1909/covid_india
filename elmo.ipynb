{
 "cells": [
  {
   "cell_type": "code",
   "execution_count": 1,
   "metadata": {},
   "outputs": [],
   "source": [
    "#!pip install \"tensorflow_hub>=0.6.0\"\n",
    "#!pip install \"tensorflow>=2.0.0\"\n",
    "\n",
    "#!pip install sentencepiece tf-sentencepiece\n",
    "#!pip install sentencepiece tensorflow_text\n",
    "\n",
    "import pandas as pd\n",
    "import tensorflow as tf\n",
    "import tensorflow_hub as hub\n",
    "import tensorflow_text\n",
    "\n",
    "#tf.contrib.resample"
   ]
  },
  {
   "cell_type": "code",
   "execution_count": 2,
   "metadata": {},
   "outputs": [],
   "source": [
    "\n",
    "module_url = \"universal-sentence-encoder-multilingual_3\"\n",
    "embed = hub.KerasLayer(module_url)\n",
    "cosine_loss = tf.keras.losses.CosineSimilarity(axis=1)\n"
   ]
  },
  {
   "cell_type": "code",
   "execution_count": 53,
   "metadata": {},
   "outputs": [
    {
     "name": "stdout",
     "output_type": "stream",
     "text": [
      "(1, 512) (1, 512)\n"
     ]
    }
   ],
   "source": [
    "embeddings_1= embed(['could you please tell me my salary'])\n",
    "embeddings_2 = embed(['can i know about my income'])\n",
    "embeddings_3 = embed(['i want to know about my dog name'])\n",
    "print(embeddings_cat.shape,embeddings_dog.shape)  #(3,128)"
   ]
  },
  {
   "cell_type": "code",
   "execution_count": 54,
   "metadata": {},
   "outputs": [
    {
     "data": {
      "text/plain": [
       "('2.2.0', '0.8.0')"
      ]
     },
     "execution_count": 54,
     "metadata": {},
     "output_type": "execute_result"
    }
   ],
   "source": [
    "tf.__version__,hub.__version__\n"
   ]
  },
  {
   "cell_type": "code",
   "execution_count": 55,
   "metadata": {},
   "outputs": [
    {
     "name": "stdout",
     "output_type": "stream",
     "text": [
      "-0.6574999\n",
      "-0.27733505\n",
      "-0.25162625\n"
     ]
    }
   ],
   "source": [
    "\n",
    "print (cosine_loss(embeddings_1, embeddings_2).numpy())\n",
    "\n",
    "print (cosine_loss(embeddings_2, embeddings_3).numpy())\n",
    "\n",
    "print (cosine_loss(embeddings_1, embeddings_3).numpy())"
   ]
  },
  {
   "cell_type": "code",
   "execution_count": 52,
   "metadata": {},
   "outputs": [],
   "source": [
    "#-0.52962476\n"
   ]
  },
  {
   "cell_type": "code",
   "execution_count": null,
   "metadata": {},
   "outputs": [],
   "source": []
  }
 ],
 "metadata": {
  "kernelspec": {
   "display_name": "Python 3",
   "language": "python",
   "name": "python3"
  },
  "language_info": {
   "codemirror_mode": {
    "name": "ipython",
    "version": 3
   },
   "file_extension": ".py",
   "mimetype": "text/x-python",
   "name": "python",
   "nbconvert_exporter": "python",
   "pygments_lexer": "ipython3",
   "version": "3.7.7"
  }
 },
 "nbformat": 4,
 "nbformat_minor": 4
}
